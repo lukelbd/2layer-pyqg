{
 "cells": [
  {
   "cell_type": "code",
   "execution_count": 1,
   "metadata": {},
   "outputs": [],
   "source": [
    "import numpy as np\n",
    "from matplotlib import pyplot as plt\n",
    "%matplotlib inline\n",
    "\n",
    "import imp\n",
    "import sys\n",
    "# the mock-0.3.1 dir contains testcase.py, testutils.py & mock.py\n",
    "#sys.path.append('/project2/rossby/group07/')\n",
    "#pyqg=imp.load_source('__init__.py', '/project2/rossby/group07/pyqg_pip/')\n",
    "#pyqg.QGModel=imp.load_source('QGModel.py', '/project2/rossby/group07/pyqg_pip/')\n",
    "#pyqg=imp.find_module('__init__.py', '/project2/rossby/group07/pyqg_pip/')\n",
    "#pyqg=imp.find_module('s', '/project2/rossby/group07/pyqg_pip/')"
   ]
  },
  {
   "cell_type": "code",
   "execution_count": 2,
   "metadata": {},
   "outputs": [
    {
     "data": {
      "text/plain": [
       "['',\n",
       " '/project2/rossby/group07',\n",
       " '/software/Anaconda2-4.3.0-el7-x86_64/lib/python27.zip',\n",
       " '/software/Anaconda2-4.3.0-el7-x86_64/lib/python2.7',\n",
       " '/software/Anaconda2-4.3.0-el7-x86_64/lib/python2.7/plat-linux2',\n",
       " '/software/Anaconda2-4.3.0-el7-x86_64/lib/python2.7/lib-tk',\n",
       " '/software/Anaconda2-4.3.0-el7-x86_64/lib/python2.7/lib-old',\n",
       " '/software/Anaconda2-4.3.0-el7-x86_64/lib/python2.7/lib-dynload',\n",
       " '/software/Anaconda2-4.3.0-el7-x86_64/lib/python2.7/site-packages',\n",
       " '/software/Anaconda2-4.3.0-el7-x86_64/lib/python2.7/site-packages/Mako-1.0.7-py2.7.egg',\n",
       " '/software/Anaconda2-4.3.0-el7-x86_64/lib/python2.7/site-packages/Sphinx-1.6.3-py2.7.egg',\n",
       " '/software/Anaconda2-4.3.0-el7-x86_64/lib/python2.7/site-packages/Iris-1.13.0-py2.7.egg',\n",
       " '/software/Anaconda2-4.3.0-el7-x86_64/lib/python2.7/site-packages/mmtf_python-1.0.2-py2.7.egg',\n",
       " '/software/Anaconda2-4.3.0-el7-x86_64/lib/python2.7/site-packages/IPython/extensions',\n",
       " '/home/t-970c07/.ipython']"
      ]
     },
     "execution_count": 2,
     "metadata": {},
     "output_type": "execute_result"
    }
   ],
   "source": [
    "sys.path"
   ]
  },
  {
   "cell_type": "code",
   "execution_count": 3,
   "metadata": {},
   "outputs": [
    {
     "data": {
      "text/plain": [
       "'/project2/rossby/group07/pyqg_pip/__init__.pyc'"
      ]
     },
     "execution_count": 3,
     "metadata": {},
     "output_type": "execute_result"
    }
   ],
   "source": [
    "#!export PYTHONPATH=/project2/rossby/group07\n",
    "import pyqg_pip as pyqg\n",
    "pyqg.__file__"
   ]
  },
  {
   "cell_type": "code",
   "execution_count": 4,
   "metadata": {},
   "outputs": [
    {
     "name": "stderr",
     "output_type": "stream",
     "text": [
      "INFO:  Logger initialized\n",
      "INFO:  Kernel initialized\n"
     ]
    }
   ],
   "source": [
    "year = 24*60*60*360.\n",
    "m = pyqg.QGModel(beta=1.5e-11, rd=15000.0, delta=0.25, H1=500, U1=0.025, U2=0.0)\n",
    "#m.run()"
   ]
  },
  {
   "cell_type": "code",
   "execution_count": 5,
   "metadata": {},
   "outputs": [],
   "source": [
    "# q_upper = m.q[0] + m.Qy[0]*m.y\n",
    "# plt.contourf(m.x, m.y, q_upper, 12, cmap='RdBu_r')\n",
    "# plt.xlabel('x'); plt.ylabel('y'); plt.title('Upper Layer PV')\n",
    "# plt.colorbar();"
   ]
  },
  {
   "cell_type": "code",
   "execution_count": 35,
   "metadata": {},
   "outputs": [
    {
     "name": "stderr",
     "output_type": "stream",
     "text": [
      "INFO:  Logger initialized\n",
      "INFO:  Kernel initialized\n"
     ]
    }
   ],
   "source": [
    "imp.reload(pyqg)\n",
    "year = 24*60*60*360.\n",
    "m = pyqg.QGModel(    \n",
    "        # grid size parameters\n",
    "        nx=128#256,                     # grid resolution\n",
    "        ny=128#256,\n",
    "        L=16e6,                     # domain size is L [m]\n",
    "        W=16e6#72e6,\n",
    "        # timestepping parameters\n",
    "        dt=7200.,                   # numerical timestep\n",
    "        twrite=10000, # interval for cfl and ke writeout (in timesteps)\n",
    "        tmax=1*year,           # total time of integration\n",
    "        tavestart=5*year,       # start time for averaging\n",
    "        taveint=86400.,             # time interval used for summation in longterm average in seconds\n",
    "        #useAB2=False,               # use second order Adams Bashforth timestepping instead of 3rd\n",
    "        \n",
    "        # friction parameters\n",
    "        rek=5.787e-7,               # linear drag in lower layer\n",
    "        filterfac=23.6,             # the factor for use in the exponential filter\n",
    "        # constants\n",
    "        #f = None,                   # coriolis parameter (not necessary for two-layer model\n",
    "                                    #  if deformation radius is provided)\n",
    "        g= 9.81,                    # acceleration due to gravity\n",
    "        \n",
    "        \n",
    "        # diagnostics parameters\n",
    "        diagnostics_list='all',     # which diagnostics to output\n",
    "        # fft parameters\n",
    "        # removed because fftw is now manditory\n",
    "        #use_fftw = False,               # fftw flag\n",
    "        #teststyle = False,            # use fftw with \"estimate\" planner to get reproducibility\n",
    "        ntd = 1,                       # number of threads to use in fftw computations\n",
    "        #log_level = 1,                 # logger level: from 0 for quiet (no log) to 4 for verbose\n",
    "        #                               #     logger (see  https://docs.python.org/2/library/logging.html)\n",
    "        logfile = None,                # logfile; None prints to screen\n",
    "        \n",
    "        \n",
    "        beta=1.6e-11,               # gradient of coriolis parameter\n",
    "        # in Naburos model: delta = 4.4e-18  !linear devrease in beta (1/(s*m*m))\n",
    "    \n",
    "        #rek=5.787e-7,               # linear drag in lower layer\n",
    "        rd=800000.0,                 # deformation radius\n",
    "        delta=1,                 # layer thickness ratio (H1/H2)\n",
    "        H1 = 500,                   # depth of layer 1 (H1) in m (?)\n",
    "        #U1=0.025,                   # upper layer flow\n",
    "        U2=0.0,                     # lower layer flow\n",
    "        )"
   ]
  },
  {
   "cell_type": "code",
   "execution_count": 37,
   "metadata": {},
   "outputs": [],
   "source": [
    "xx, yy= np.meshgrid(np.arange(m.nx),np.arange(m.ny))\n"
   ]
  },
  {
   "cell_type": "code",
   "execution_count": 38,
   "metadata": {},
   "outputs": [],
   "source": [
    "sigma=.2\n",
    "mu=0\n",
    "bins=(yy-round(m.ny/2))/m.ny\n",
    "yy_new=1/(sigma * np.sqrt(2 * np.pi))*np.exp( - (bins - mu)**2 / (2 * sigma**2))\n"
   ]
  },
  {
   "cell_type": "code",
   "execution_count": 39,
   "metadata": {},
   "outputs": [
    {
     "data": {
      "text/plain": [
       "<matplotlib.colorbar.Colorbar at 0x7faed668e550>"
      ]
     },
     "execution_count": 39,
     "metadata": {},
     "output_type": "execute_result"
    },
    {
     "data": {
      "image/png": "[encoded data removed]",
      "text/plain": [
       "<matplotlib.figure.Figure at 0x7faed6877e90>"
      ]
     },
     "metadata": {},
     "output_type": "display_data"
    }
   ],
   "source": [
    "plt.contourf(yy_new)\n",
    "plt.colorbar()"
   ]
  },
  {
   "cell_type": "code",
   "execution_count": 40,
   "metadata": {},
   "outputs": [],
   "source": [
    "m.set_q1q2(yy_new, yy_new*0)"
   ]
  },
  {
   "cell_type": "code",
   "execution_count": 41,
   "metadata": {},
   "outputs": [],
   "source": [
    "m.run()"
   ]
  },
  {
   "cell_type": "code",
   "execution_count": 42,
   "metadata": {},
   "outputs": [
    {
     "data": {
      "image/png": "[encoded data removed]",
      "text/plain": [
       "<matplotlib.figure.Figure at 0x7faed8a65850>"
      ]
     },
     "metadata": {},
     "output_type": "display_data"
    }
   ],
   "source": [
    "q_upper = m.q[0] + m.Qy[0]*m.y\n",
    "plt.contourf(m.x, m.y, q_upper, 12, cmap='RdBu_r')\n",
    "plt.xlabel('x'); plt.ylabel('y'); plt.title('Upper Layer PV')\n",
    "plt.colorbar();"
   ]
  },
  {
   "cell_type": "code",
   "execution_count": 12,
   "metadata": {},
   "outputs": [
    {
     "name": "stderr",
     "output_type": "stream",
     "text": [
      "/project2/rossby/group07/.conda/lib/python2.7/site-packages/matplotlib/axes/_base.py:3129: UserWarning: Attempted to set non-positive xlimits for log-scale axis; invalid limits will be ignored.\n",
      "  'Attempted to set non-positive xlimits for log-scale axis; '\n"
     ]
    },
    {
     "data": {
      "image/png": "[encoded data removed]",
      "text/plain": [
       "<Figure size 432x288 with 1 Axes>"
      ]
     },
     "metadata": {},
     "output_type": "display_data"
    }
   ],
   "source": [
    "kespec_u = m.get_diagnostic('KEspec')[0].sum(axis=0)\n",
    "kespec_l = m.get_diagnostic('KEspec')[1].sum(axis=0)\n",
    "plt.loglog( m.kk, kespec_u, '.-' )\n",
    "plt.loglog( m.kk, kespec_l, '.-' )\n",
    "plt.legend(['upper layer','lower layer'], loc='lower left')\n",
    "plt.ylim([1e-9,1e-3]); plt.xlim([m.kk.min(), m.kk.max()])\n",
    "plt.xlabel(r'k (m$^{-1}$)'); plt.grid()\n",
    "plt.title('Kinetic Energy Spectrum');"
   ]
  },
  {
   "cell_type": "code",
   "execution_count": null,
   "metadata": {},
   "outputs": [],
   "source": []
  }
 ],
 "metadata": {
  "kernelspec": {
   "display_name": "Python 2",
   "language": "python",
   "name": "python2"
  },
  "language_info": {
   "codemirror_mode": {
    "name": "ipython",
    "version": 2
   },
   "file_extension": ".py",
   "mimetype": "text/x-python",
   "name": "python",
   "nbconvert_exporter": "python",
   "pygments_lexer": "ipython2",
   "version": "2.7.13"
  }
 },
 "nbformat": 4,
 "nbformat_minor": 2
}
